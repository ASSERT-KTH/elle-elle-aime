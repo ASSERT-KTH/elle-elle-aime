{
 "cells": [
  {
   "cell_type": "code",
   "execution_count": 13,
   "metadata": {},
   "outputs": [],
   "source": [
    "from datetime import datetime\n",
    "\n",
    "\n",
    "class AttrDict(dict):\n",
    "    \"\"\"A dict that allows for attribute-style access.\"\"\"\n",
    "    def __init__(self, *args, **kwargs):\n",
    "        super().__init__(*args, **kwargs)\n",
    "        self.__dict__ = self\n",
    "        self.id: int = None\n",
    "        self.model: str = None\n",
    "        self.benchmark: str = None\n",
    "        self.project: str = None\n",
    "        self.bug_id: int = None\n",
    "        self.request_type: str = None\n",
    "        self.sample_number: int = None\n",
    "        self.prompt_text: str = None\n",
    "        self.prompt_size: int = None\n",
    "        self.bug_start_pos: int = None\n",
    "        self.bug_end_pos: int = None\n",
    "        self.temperature: float = None\n",
    "        self.buggy_file_path: str = None\n",
    "        self.patch: str = None\n",
    "        self.buggy_code_chunk: str = None\n",
    "        self.buggy_code_token: int = None\n",
    "        self.fixed_code_chunk: str = None\n",
    "        self.fixed_code_token: int = None\n",
    "        self.respond_origin_code_chunk: str = None\n",
    "        self.respond_clean_code_chunk: str = None\n",
    "        self.respond_code_token: int = None\n",
    "        self.respond_compiled_output: str = None\n",
    "        self.respond_test_output: str = None\n",
    "        self.buggy_test_output: str = None\n",
    "        self.fixed_test_output: str = None\n",
    "        self.prompt_params: dict = None\n",
    "        self.request_params: dict = None\n",
    "        self.result_type: str = None\n",
    "        self.error_message: str = None"
   ]
  },
  {
   "cell_type": "code",
   "execution_count": 14,
   "metadata": {},
   "outputs": [],
   "source": [
    "result_dict = AttrDict()"
   ]
  },
  {
   "cell_type": "code",
   "execution_count": 15,
   "metadata": {},
   "outputs": [],
   "source": [
    "result_dict.benchmark = \"Defects4J\""
   ]
  },
  {
   "cell_type": "code",
   "execution_count": 11,
   "metadata": {},
   "outputs": [
    {
     "name": "stdout",
     "output_type": "stream",
     "text": [
      "<class 'datetime.datetime'>\n"
     ]
    }
   ],
   "source": [
    "print(type(result_dict.created_on))"
   ]
  },
  {
   "cell_type": "code",
   "execution_count": 16,
   "metadata": {},
   "outputs": [],
   "source": [
    "import json\n",
    "\n",
    "with open(\"result.json\", \"w\") as f:\n",
    "    json.dump(result_dict, f, indent=4)"
   ]
  },
  {
   "cell_type": "code",
   "execution_count": null,
   "metadata": {},
   "outputs": [],
   "source": []
  }
 ],
 "metadata": {
  "kernelspec": {
   "display_name": "tomas",
   "language": "python",
   "name": "python3"
  },
  "language_info": {
   "codemirror_mode": {
    "name": "ipython",
    "version": 3
   },
   "file_extension": ".py",
   "mimetype": "text/x-python",
   "name": "python",
   "nbconvert_exporter": "python",
   "pygments_lexer": "ipython3",
   "version": "3.9.16"
  },
  "orig_nbformat": 4
 },
 "nbformat": 4,
 "nbformat_minor": 2
}
