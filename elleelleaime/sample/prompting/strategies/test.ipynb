{
 "cells": [
  {
   "cell_type": "code",
   "execution_count": 30,
   "metadata": {},
   "outputs": [
    {
     "name": "stdout",
     "output_type": "stream",
     "text": [
      "    public static Number createNumber(String val) throws NumberFormatException {\n",
      "        if (val == null) {\n",
      "            return null;\n",
      "        }\n",
      "        if (val.length() == 0) {\n",
      "            throw new NumberFormatException(\"\\\"\\\" is not a valid number.\");\n",
      "        }\n",
      "        <|mask:0|>\n",
      "        if (val.startsWith(\"--\")) {\n",
      "            return null;\n",
      "        }\n",
      "        if (val.startsWith(\"0x\") || val.startsWith(\"-0x\")) {\n",
      "            return createInteger(val);\n",
      "        }   \n",
      "        char lastChar = val.charAt(val.length() - 1);\n",
      "        String mant;\n",
      "        String dec;\n",
      "        String exp;\n",
      "        int decPos = val.indexOf('.');\n",
      "        int expPos = val.indexOf('e') + val.indexOf('E') + 1;\n",
      "\n",
      "        if (decPos > -1) {\n",
      "\n",
      "            if (expPos > -1) {\n",
      "                if (expPos < decPos) {\n",
      "                    throw new NumberFormatException(val + \" is not a valid number.\");\n",
      "                }\n",
      "                dec = val.substring(decPos + 1, expPos);\n",
      "            } else {\n",
      "                dec = val.substring(decPos + 1);\n",
      "            }\n",
      "            mant = val.substring(0, decPos);\n",
      "        } else {\n",
      "            if (expPos > -1) {\n",
      "                mant = val.substring(0, expPos);\n",
      "            } else {\n",
      "                mant = val;\n",
      "            }\n",
      "            dec = null;\n",
      "        }\n",
      "        if (!Character.isDigit(lastChar)) {\n",
      "            if (expPos > -1 && expPos < val.length() - 1) {\n",
      "                exp = val.substring(expPos + 1, val.length() - 1);\n",
      "            } else {\n",
      "                exp = null;\n",
      "            }\n",
      "            String numeric = val.substring(0, val.length() - 1);\n",
      "            boolean allZeros = isAllZeros(mant) && isAllZeros(exp);\n",
      "            switch (lastChar) {\n",
      "                case 'l' :\n",
      "                case 'L' :\n",
      "                    if (dec == null\n",
      "                        && exp == null\n",
      "                        && (numeric.charAt(0) == '-' && isDigits(numeric.substring(1)) || isDigits(numeric))) {\n",
      "                        try {\n",
      "                            return createLong(numeric);\n",
      "                        } catch (NumberFormatException nfe) {\n",
      "                        }\n",
      "                        return createBigInteger(numeric);\n",
      "\n",
      "                    }\n",
      "                    throw new NumberFormatException(val + \" is not a valid number.\");\n",
      "                case 'f' :\n",
      "                case 'F' :\n",
      "                    try {\n",
      "                        Float f = NumberUtils.createFloat(numeric);\n",
      "                        if (!(f.isInfinite() || (f.floatValue() == 0.0F && !allZeros))) {\n",
      "                            return f;\n",
      "                        }\n",
      "\n",
      "                    } catch (NumberFormatException e) {\n",
      "                    }\n",
      "                case 'd' :\n",
      "                case 'D' :\n",
      "                    try {\n",
      "                        Double d = NumberUtils.createDouble(numeric);\n",
      "                        if (!(d.isInfinite() || (d.floatValue() == 0.0D && !allZeros))) {\n",
      "                            return d;\n",
      "                        }\n",
      "                    } catch (NumberFormatException nfe) {\n",
      "                    }\n",
      "                    try {\n",
      "                        return createBigDecimal(numeric);\n",
      "                    } catch (NumberFormatException e) {\n",
      "                    }\n",
      "                default :\n",
      "                    throw new NumberFormatException(val + \" is not a valid number.\");\n",
      "\n",
      "            }\n",
      "        } else {\n",
      "            if (expPos > -1 && expPos < val.length() - 1) {\n",
      "                exp = val.substring(expPos + 1, val.length());\n",
      "            } else {\n",
      "                exp = null;\n",
      "            }\n",
      "            if (dec == null && exp == null) {\n",
      "                try {\n",
      "                    return createInteger(val);\n",
      "                } catch (NumberFormatException nfe) {\n",
      "                }\n",
      "                try {\n",
      "                    return createLong(val);\n",
      "                } catch (NumberFormatException nfe) {\n",
      "                }\n",
      "                return createBigInteger(val);\n",
      "\n",
      "            } else {\n",
      "                boolean allZeros = isAllZeros(mant) && isAllZeros(exp);\n",
      "                try {\n",
      "                    Float f = createFloat(val);\n",
      "                    if (!(f.isInfinite() || (f.floatValue() == 0.0F && !allZeros))) {\n",
      "                        return f;\n",
      "                    }\n",
      "                } catch (NumberFormatException nfe) {\n",
      "                }\n",
      "                try {\n",
      "                    Double d = createDouble(val);\n",
      "                    if (!(d.isInfinite() || (d.doubleValue() == 0.0D && !allZeros))) {\n",
      "                        return d;\n",
      "                    }\n",
      "                } catch (NumberFormatException nfe) {\n",
      "                }\n",
      "\n",
      "                return createBigDecimal(val);\n",
      "\n",
      "            }\n",
      "\n",
      "        }\n",
      "    }\n",
      "\n"
     ]
    }
   ],
   "source": [
    "print('    public static Number createNumber(String val) throws NumberFormatException {\\n        if (val == null) {\\n            return null;\\n        }\\n        if (val.length() == 0) {\\n            throw new NumberFormatException(\"\\\\\"\\\\\" is not a valid number.\");\\n        }\\n        <|mask:0|>\\n        if (val.startsWith(\"--\")) {\\n            return null;\\n        }\\n        if (val.startsWith(\"0x\") || val.startsWith(\"-0x\")) {\\n            return createInteger(val);\\n        }   \\n        char lastChar = val.charAt(val.length() - 1);\\n        String mant;\\n        String dec;\\n        String exp;\\n        int decPos = val.indexOf(\\'.\\');\\n        int expPos = val.indexOf(\\'e\\') + val.indexOf(\\'E\\') + 1;\\n\\n        if (decPos > -1) {\\n\\n            if (expPos > -1) {\\n                if (expPos < decPos) {\\n                    throw new NumberFormatException(val + \" is not a valid number.\");\\n                }\\n                dec = val.substring(decPos + 1, expPos);\\n            } else {\\n                dec = val.substring(decPos + 1);\\n            }\\n            mant = val.substring(0, decPos);\\n        } else {\\n            if (expPos > -1) {\\n                mant = val.substring(0, expPos);\\n            } else {\\n                mant = val;\\n            }\\n            dec = null;\\n        }\\n        if (!Character.isDigit(lastChar)) {\\n            if (expPos > -1 && expPos < val.length() - 1) {\\n                exp = val.substring(expPos + 1, val.length() - 1);\\n            } else {\\n                exp = null;\\n            }\\n            String numeric = val.substring(0, val.length() - 1);\\n            boolean allZeros = isAllZeros(mant) && isAllZeros(exp);\\n            switch (lastChar) {\\n                case \\'l\\' :\\n                case \\'L\\' :\\n                    if (dec == null\\n                        && exp == null\\n                        && (numeric.charAt(0) == \\'-\\' && isDigits(numeric.substring(1)) || isDigits(numeric))) {\\n                        try {\\n                            return createLong(numeric);\\n                        } catch (NumberFormatException nfe) {\\n                        }\\n                        return createBigInteger(numeric);\\n\\n                    }\\n                    throw new NumberFormatException(val + \" is not a valid number.\");\\n                case \\'f\\' :\\n                case \\'F\\' :\\n                    try {\\n                        Float f = NumberUtils.createFloat(numeric);\\n                        if (!(f.isInfinite() || (f.floatValue() == 0.0F && !allZeros))) {\\n                            return f;\\n                        }\\n\\n                    } catch (NumberFormatException e) {\\n                    }\\n                case \\'d\\' :\\n                case \\'D\\' :\\n                    try {\\n                        Double d = NumberUtils.createDouble(numeric);\\n                        if (!(d.isInfinite() || (d.floatValue() == 0.0D && !allZeros))) {\\n                            return d;\\n                        }\\n                    } catch (NumberFormatException nfe) {\\n                    }\\n                    try {\\n                        return createBigDecimal(numeric);\\n                    } catch (NumberFormatException e) {\\n                    }\\n                default :\\n                    throw new NumberFormatException(val + \" is not a valid number.\");\\n\\n            }\\n        } else {\\n            if (expPos > -1 && expPos < val.length() - 1) {\\n                exp = val.substring(expPos + 1, val.length());\\n            } else {\\n                exp = null;\\n            }\\n            if (dec == null && exp == null) {\\n                try {\\n                    return createInteger(val);\\n                } catch (NumberFormatException nfe) {\\n                }\\n                try {\\n                    return createLong(val);\\n                } catch (NumberFormatException nfe) {\\n                }\\n                return createBigInteger(val);\\n\\n            } else {\\n                boolean allZeros = isAllZeros(mant) && isAllZeros(exp);\\n                try {\\n                    Float f = createFloat(val);\\n                    if (!(f.isInfinite() || (f.floatValue() == 0.0F && !allZeros))) {\\n                        return f;\\n                    }\\n                } catch (NumberFormatException nfe) {\\n                }\\n                try {\\n                    Double d = createDouble(val);\\n                    if (!(d.isInfinite() || (d.doubleValue() == 0.0D && !allZeros))) {\\n                        return d;\\n                    }\\n                } catch (NumberFormatException nfe) {\\n                }\\n\\n                return createBigDecimal(val);\\n\\n            }\\n\\n        }\\n    }\\n')"
   ]
  },
  {
   "cell_type": "code",
   "execution_count": 27,
   "metadata": {},
   "outputs": [
    {
     "name": "stdout",
     "output_type": "stream",
     "text": [
      "diff --git a/source/org/jfree/chart/renderer/category/AbstractCategoryItemRenderer.java b/source/org/jfree/chart/renderer/category/AbstractCategoryItemRenderer.java\n",
      "index 4a54655..226b25a 100644\n",
      "--- a/source/org/jfree/chart/renderer/category/AbstractCategoryItemRenderer.java\n",
      "+++ b/source/org/jfree/chart/renderer/category/AbstractCategoryItemRenderer.java\n",
      "@@ -1794,7 +1794,7 @@ public abstract class AbstractCategoryItemRenderer extends AbstractRenderer\n",
      "         }\n",
      "         int index = this.plot.getIndexOf(this);\n",
      "         CategoryDataset dataset = this.plot.getDataset(index);\n",
      "-        if (dataset == null) {\n",
      "+        if (dataset != null) {\n",
      "             return result;\n",
      "         }\n",
      "         int seriesCount = dataset.getRowCount();\n"
     ]
    }
   ],
   "source": [
    "print('diff --git a/source/org/jfree/chart/renderer/category/AbstractCategoryItemRenderer.java b/source/org/jfree/chart/renderer/category/AbstractCategoryItemRenderer.java\\nindex 4a54655..226b25a 100644\\n--- a/source/org/jfree/chart/renderer/category/AbstractCategoryItemRenderer.java\\n+++ b/source/org/jfree/chart/renderer/category/AbstractCategoryItemRenderer.java\\n@@ -1794,7 +1794,7 @@ public abstract class AbstractCategoryItemRenderer extends AbstractRenderer\\n         }\\n         int index = this.plot.getIndexOf(this);\\n         CategoryDataset dataset = this.plot.getDataset(index);\\n-        if (dataset == null) {\\n+        if (dataset != null) {\\n             return result;\\n         }\\n         int seriesCount = dataset.getRowCount();')"
   ]
  },
  {
   "cell_type": "code",
   "execution_count": 7,
   "metadata": {},
   "outputs": [
    {
     "name": "stdout",
     "output_type": "stream",
     "text": [
      "diff --git a/src/main/java/org/apache/commons/lang3/math/NumberUtils.java b/src/main/java/org/apache/commons/lang3/math/NumberUtils.java\n",
      "index 1e6ccdc..c584021 100644\n",
      "--- a/src/main/java/org/apache/commons/lang3/math/NumberUtils.java\n",
      "+++ b/src/main/java/org/apache/commons/lang3/math/NumberUtils.java\n",
      "@@ -590,22 +590,18 @@ public class NumberUtils {\n",
      "         final boolean allZeros = isAllZeros(mant) && isAllZeros(exp);\n",
      "         try {\n",
      "-            if(numDecimals <= 7){// If number has 7 or fewer digits past the decimal point then make it a float\n",
      "                 final Float f = createFloat(str);\n",
      "                 if (!(f.isInfinite() || (f.floatValue() == 0.0F && !allZeros))) {\n",
      "                     return f;\n",
      "                 }\n",
      "-            }\n",
      "         } catch (final NumberFormatException nfe) { // NOPMD\n",
      "         }\n",
      "         try {\n",
      "-            if(numDecimals <= 16){// If number has between 8 and 16 digits past the decimal point then make it a double\n",
      "                 final Double d = createDouble(str);\n",
      "                 if (!(d.isInfinite() || (d.doubleValue() == 0.0D && !allZeros))) {\n",
      "                     return d;\n",
      "                 }\n",
      "-            }\n",
      "         } catch (final NumberFormatException nfe) { // NOPMD\n",
      "         }\n"
     ]
    }
   ],
   "source": [
    "print('diff --git a/src/main/java/org/apache/commons/lang3/math/NumberUtils.java b/src/main/java/org/apache/commons/lang3/math/NumberUtils.java\\nindex 1e6ccdc..c584021 100644\\n--- a/src/main/java/org/apache/commons/lang3/math/NumberUtils.java\\n+++ b/src/main/java/org/apache/commons/lang3/math/NumberUtils.java\\n@@ -590,22 +590,18 @@ public class NumberUtils {\\n         final boolean allZeros = isAllZeros(mant) && isAllZeros(exp);\\n         try {\\n-            if(numDecimals <= 7){// If number has 7 or fewer digits past the decimal point then make it a float\\n                 final Float f = createFloat(str);\\n                 if (!(f.isInfinite() || (f.floatValue() == 0.0F && !allZeros))) {\\n                     return f;\\n                 }\\n-            }\\n         } catch (final NumberFormatException nfe) { // NOPMD\\n         }\\n         try {\\n-            if(numDecimals <= 16){// If number has between 8 and 16 digits past the decimal point then make it a double\\n                 final Double d = createDouble(str);\\n                 if (!(d.isInfinite() || (d.doubleValue() == 0.0D && !allZeros))) {\\n                     return d;\\n                 }\\n-            }\\n         } catch (final NumberFormatException nfe) { // NOPMD\\n         }')"
   ]
  },
  {
   "cell_type": "code",
   "execution_count": 8,
   "metadata": {},
   "outputs": [
    {
     "data": {
      "text/plain": [
       "str"
      ]
     },
     "execution_count": 8,
     "metadata": {},
     "output_type": "execute_result"
    }
   ],
   "source": [
    "type(a)"
   ]
  },
  {
   "cell_type": "code",
   "execution_count": 9,
   "metadata": {},
   "outputs": [
    {
     "data": {
      "text/plain": [
       "True"
      ]
     },
     "execution_count": 9,
     "metadata": {},
     "output_type": "execute_result"
    }
   ],
   "source": [
    "a = 'aaa{}'\n",
    "'{}' in a"
   ]
  },
  {
   "cell_type": "code",
   "execution_count": 3,
   "metadata": {},
   "outputs": [],
   "source": [
    "a = {(1, 2):[1, 2, 3]}"
   ]
  },
  {
   "cell_type": "code",
   "execution_count": 4,
   "metadata": {},
   "outputs": [],
   "source": [
    "diff = \"diff --git a/src/main/java/org/jsoup/parser/HtmlTreeBuilder.java b/src/main/java/org/jsoup/parser/HtmlTreeBuilder.java\\nindex b8cc1f0..08444ef 100644\\n--- a/src/main/java/org/jsoup/parser/HtmlTreeBuilder.java\\n+++ b/src/main/java/org/jsoup/parser/HtmlTreeBuilder.java\\n@@ -465,7 +465,10 @@ public class HtmlTreeBuilder extends TreeBuilder {\\n \\n     private boolean inSpecificScope(String[] targetNames, String[] baseTypes, String[] extraTypes) {\\n         // https://html.spec.whatwg.org/multipage/parsing.html#has-an-element-in-the-specific-scope\\n-        final int bottom = stack.size() -1;\\n+        int bottom = stack.size() -1;\\n+        if (bottom > MaxScopeSearchDepth) {\\n+            bottom = MaxScopeSearchDepth;\\n+        }\\n         final int top = bottom > MaxScopeSearchDepth ? bottom - MaxScopeSearchDepth : 0;\\n         // don't walk too far up the tree\\n \\n\""
   ]
  },
  {
   "cell_type": "code",
   "execution_count": 5,
   "metadata": {},
   "outputs": [],
   "source": [
    "diff_lines = diff.split('\\n')"
   ]
  },
  {
   "cell_type": "code",
   "execution_count": 7,
   "metadata": {},
   "outputs": [],
   "source": [
    "import re\n",
    "\n",
    "clean_lines = [re.sub('//.*', '', line) for line in diff_lines]"
   ]
  },
  {
   "cell_type": "code",
   "execution_count": 8,
   "metadata": {},
   "outputs": [
    {
     "name": "stdout",
     "output_type": "stream",
     "text": [
      "diff --git a/src/main/java/org/jsoup/parser/HtmlTreeBuilder.java b/src/main/java/org/jsoup/parser/HtmlTreeBuilder.java\n",
      "index b8cc1f0..08444ef 100644\n",
      "--- a/src/main/java/org/jsoup/parser/HtmlTreeBuilder.java\n",
      "+++ b/src/main/java/org/jsoup/parser/HtmlTreeBuilder.java\n",
      "@@ -465,7 +465,10 @@ public class HtmlTreeBuilder extends TreeBuilder {\n",
      " \n",
      "     private boolean inSpecificScope(String[] targetNames, String[] baseTypes, String[] extraTypes) {\n",
      "         \n",
      "-        final int bottom = stack.size() -1;\n",
      "+        int bottom = stack.size() -1;\n",
      "+        if (bottom > MaxScopeSearchDepth) {\n",
      "+            bottom = MaxScopeSearchDepth;\n",
      "+        }\n",
      "         final int top = bottom > MaxScopeSearchDepth ? bottom - MaxScopeSearchDepth : 0;\n",
      "         \n",
      " \n",
      "\n"
     ]
    }
   ],
   "source": [
    "for each in clean_lines:\n",
    "    print(each)"
   ]
  },
  {
   "cell_type": "code",
   "execution_count": 9,
   "metadata": {},
   "outputs": [
    {
     "name": "stdout",
     "output_type": "stream",
     "text": [
      "diff --git a/src/main/java/org/jsoup/parser/HtmlTreeBuilder.java b/src/main/java/org/jsoup/parser/HtmlTreeBuilder.java\n",
      "index b8cc1f0..08444ef 100644\n",
      "--- a/src/main/java/org/jsoup/parser/HtmlTreeBuilder.java\n",
      "+++ b/src/main/java/org/jsoup/parser/HtmlTreeBuilder.java\n",
      "@@ -465,7 +465,10 @@ public class HtmlTreeBuilder extends TreeBuilder {\n",
      " \n",
      "     private boolean inSpecificScope(String[] targetNames, String[] baseTypes, String[] extraTypes) {\n",
      "         // https://html.spec.whatwg.org/multipage/parsing.html#has-an-element-in-the-specific-scope\n",
      "-        final int bottom = stack.size() -1;\n",
      "+        int bottom = stack.size() -1;\n",
      "+        if (bottom > MaxScopeSearchDepth) {\n",
      "+            bottom = MaxScopeSearchDepth;\n",
      "+        }\n",
      "         final int top = bottom > MaxScopeSearchDepth ? bottom - MaxScopeSearchDepth : 0;\n",
      "         // don't walk too far up the tree\n",
      " \n",
      "\n"
     ]
    }
   ],
   "source": [
    "for each in diff_lines:\n",
    "    print(each)"
   ]
  },
  {
   "cell_type": "code",
   "execution_count": 44,
   "metadata": {},
   "outputs": [
    {
     "name": "stdout",
     "output_type": "stream",
     "text": [
      "            if (n instanceof TextNode) {\n",
      "                return ((TextNode) n).getBinaryValue(b64variant);\n",
      "-----------------\n",
      "            return n.binaryValue();\n",
      "-----------------\n"
     ]
    }
   ],
   "source": [
    "a = {0: ['            if (n instanceof TextNode) {', '                return ((TextNode) n).getBinaryValue(b64variant);'], 1: ['            return n.binaryValue();']}\n",
    "for key, value in a.items():\n",
    "    for each in value:\n",
    "        print(each)\n",
    "    print('-----------------')"
   ]
  },
  {
   "cell_type": "code",
   "execution_count": 47,
   "metadata": {},
   "outputs": [
    {
     "name": "stdout",
     "output_type": "stream",
     "text": [
      "diff --git a/src/main/java/com/fasterxml/jackson/databind/node/TreeTraversingParser.java b/src/main/java/com/fasterxml/jackson/databind/node/TreeTraversingParser.java\n",
      "index 40bf3d343..9d2f74b35 100644\n",
      "--- a/src/main/java/com/fasterxml/jackson/databind/node/TreeTraversingParser.java\n",
      "+++ b/src/main/java/com/fasterxml/jackson/databind/node/TreeTraversingParser.java\n",
      "@@ -360,10 +360,16 @@ public class TreeTraversingParser extends ParserMinimalBase\n",
      "         if (n != null) {\n",
      "             // [databind#2096]: although `binaryValue()` works for real binary node\n",
      "             // and embedded \"POJO\" node, coercion from TextNode may require variant, so:\n",
      "-            if (n instanceof TextNode) {\n",
      "-                return ((TextNode) n).getBinaryValue(b64variant);\n",
      "+            byte[] data = n.binaryValue();\n",
      "+            if (data != null) {\n",
      "+                return data;\n",
      "+            }\n",
      "+            if (n.isPojo()) {\n",
      "+                Object ob = ((POJONode) n).getPojo();\n",
      "+                if (ob instanceof byte[]) {\n",
      "+                    return (byte[]) ob;\n",
      "+                }\n",
      "             }\n",
      "-            return n.binaryValue();\n",
      "         }\n",
      "         // otherwise return null to mark we have no binary content\n",
      "         return null;\n",
      "\n",
      "-----------------\n",
      "diff --git a/src/main/java/com/fasterxml/jackson/databind/node/TreeTraversingParser.java b/src/main/java/com/fasterxml/jackson/databind/node/TreeTraversingParser.java\n",
      "index 40bf3d343..9d2f74b35 100644\n",
      "--- a/src/main/java/com/fasterxml/jackson/databind/node/TreeTraversingParser.java\n",
      "@@ -360,10 +360,16 @@ public class TreeTraversingParser extends ParserMinimalBase\n",
      "         if (n != null) {\n",
      "-            if (n instanceof TextNode) {\n",
      "-                return ((TextNode) n).getBinaryValue(b64variant);\n",
      "             }\n",
      "-            return n.binaryValue();\n",
      "         }\n",
      "         return null;\n"
     ]
    }
   ],
   "source": [
    "diff_text = 'diff --git a/src/main/java/com/fasterxml/jackson/databind/node/TreeTraversingParser.java b/src/main/java/com/fasterxml/jackson/databind/node/TreeTraversingParser.java\\nindex 40bf3d343..9d2f74b35 100644\\n--- a/src/main/java/com/fasterxml/jackson/databind/node/TreeTraversingParser.java\\n+++ b/src/main/java/com/fasterxml/jackson/databind/node/TreeTraversingParser.java\\n@@ -360,10 +360,16 @@ public class TreeTraversingParser extends ParserMinimalBase\\n         if (n != null) {\\n             // [databind#2096]: although `binaryValue()` works for real binary node\\n             // and embedded \"POJO\" node, coercion from TextNode may require variant, so:\\n-            if (n instanceof TextNode) {\\n-                return ((TextNode) n).getBinaryValue(b64variant);\\n+            byte[] data = n.binaryValue();\\n+            if (data != null) {\\n+                return data;\\n+            }\\n+            if (n.isPojo()) {\\n+                Object ob = ((POJONode) n).getPojo();\\n+                if (ob instanceof byte[]) {\\n+                    return (byte[]) ob;\\n+                }\\n             }\\n-            return n.binaryValue();\\n         }\\n         // otherwise return null to mark we have no binary content\\n         return null;\\n'\n",
    "lines = diff_text.split('\\n')\n",
    "inverse_sign = '+'\n",
    "lines = [line for line in lines if not line.startswith(inverse_sign)]\n",
    "# Remove comment lines\n",
    "lines = [line for line in lines if re.sub('//.*', '', line).strip() != '']\n",
    "print(diff_text)\n",
    "print('-----------------')\n",
    "print('\\n'.join(lines))"
   ]
  },
  {
   "cell_type": "code",
   "execution_count": 48,
   "metadata": {},
   "outputs": [
    {
     "name": "stdout",
     "output_type": "stream",
     "text": [
      "    public byte[] getBinaryValue(Base64Variant b64variant)\n",
      "        throws IOException, JsonParseException\n",
      "    {\n",
      "        JsonNode n = currentNode();\n",
      "        if (n != null) {\n",
      "            if (n instanceof TextNode) {\n",
      "                return ((TextNode) n).getBinaryValue(b64variant);\n",
      "            }\n",
      "            return n.binaryValue();\n",
      "        }\n",
      "        return null;\n",
      "    }\n",
      "\n"
     ]
    }
   ],
   "source": [
    "print('    public byte[] getBinaryValue(Base64Variant b64variant)\\n        throws IOException, JsonParseException\\n    {\\n        JsonNode n = currentNode();\\n        if (n != null) {\\n            if (n instanceof TextNode) {\\n                return ((TextNode) n).getBinaryValue(b64variant);\\n            }\\n            return n.binaryValue();\\n        }\\n        return null;\\n    }\\n')"
   ]
  },
  {
   "cell_type": "code",
   "execution_count": 42,
   "metadata": {},
   "outputs": [],
   "source": [
    "lines = [line for line in diff_text.split('\\n') if re.sub('//.*', '', line).strip() != '']"
   ]
  },
  {
   "cell_type": "code",
   "execution_count": 43,
   "metadata": {},
   "outputs": [
    {
     "name": "stdout",
     "output_type": "stream",
     "text": [
      "diff --git a/src/main/java/com/fasterxml/jackson/databind/jsontype/impl/ClassNameIdResolver.java b/src/main/java/com/fasterxml/jackson/databind/jsontype/impl/ClassNameIdResolver.java\n",
      "index d1418eb0a..142fc3629 100644\n",
      "--- a/src/main/java/com/fasterxml/jackson/databind/jsontype/impl/ClassNameIdResolver.java\n",
      "+++ b/src/main/java/com/fasterxml/jackson/databind/jsontype/impl/ClassNameIdResolver.java\n",
      "@@ -55,11 +55,7 @@ public class ClassNameIdResolver\n",
      "             JavaType t = tf.constructFromCanonical(id);\n",
      "-            if (!t.isTypeOrSubTypeOf(_baseType.getRawClass())) {\n",
      "-                throw new IllegalArgumentException(String.format(\n",
      "-                        \"Class %s not subtype of %s\", t.getRawClass().getName(), _baseType));\n",
      "-            }\n",
      "             return t;\n",
      "         }\n",
      "         Class<?> cls;\n"
     ]
    }
   ],
   "source": [
    "print('\\n'.join(lines))"
   ]
  },
  {
   "cell_type": "code",
   "execution_count": 13,
   "metadata": {},
   "outputs": [
    {
     "name": "stdout",
     "output_type": "stream",
     "text": [
      "diff --git a/src/main/java/org/apache/commons/lang3/math/NumberUtils.java b/src/main/java/org/apache/commons/lang3/math/NumberUtils.java\n",
      "index 1e6ccdc..c584021 100644\n",
      "--- a/src/main/java/org/apache/commons/lang3/math/NumberUtils.java\n",
      "@@ -590,22 +590,18 @@ public class NumberUtils {\n",
      "         final boolean allZeros = isAllZeros(mant) && isAllZeros(exp);\n",
      "         try {\n",
      "-            if(numDecimals <= 7){// If number has 7 or fewer digits past the decimal point then make it a float\n",
      "                 final Float f = createFloat(str);\n",
      "                 if (!(f.isInfinite() || (f.floatValue() == 0.0F && !allZeros))) {\n",
      "                     return f;\n",
      "                 }\n",
      "-            }\n",
      "         } catch (final NumberFormatException nfe) { // NOPMD\n",
      "         }\n",
      "         try {\n",
      "-            if(numDecimals <= 16){// If number has between 8 and 16 digits past the decimal point then make it a double\n",
      "                 final Double d = createDouble(str);\n",
      "                 if (!(d.isInfinite() || (d.doubleValue() == 0.0D && !allZeros))) {\n",
      "                     return d;\n",
      "                 }\n",
      "-            }\n",
      "         } catch (final NumberFormatException nfe) { // NOPMD\n",
      "         }\n"
     ]
    }
   ],
   "source": [
    "print('diff --git a/src/main/java/org/apache/commons/lang3/math/NumberUtils.java b/src/main/java/org/apache/commons/lang3/math/NumberUtils.java\\nindex 1e6ccdc..c584021 100644\\n--- a/src/main/java/org/apache/commons/lang3/math/NumberUtils.java\\n@@ -590,22 +590,18 @@ public class NumberUtils {\\n         final boolean allZeros = isAllZeros(mant) && isAllZeros(exp);\\n         try {\\n-            if(numDecimals <= 7){// If number has 7 or fewer digits past the decimal point then make it a float\\n                 final Float f = createFloat(str);\\n                 if (!(f.isInfinite() || (f.floatValue() == 0.0F && !allZeros))) {\\n                     return f;\\n                 }\\n-            }\\n         } catch (final NumberFormatException nfe) { // NOPMD\\n         }\\n         try {\\n-            if(numDecimals <= 16){// If number has between 8 and 16 digits past the decimal point then make it a double\\n                 final Double d = createDouble(str);\\n                 if (!(d.isInfinite() || (d.doubleValue() == 0.0D && !allZeros))) {\\n                     return d;\\n                 }\\n-            }\\n         } catch (final NumberFormatException nfe) { // NOPMD\\n         }')"
   ]
  },
  {
   "cell_type": "code",
   "execution_count": 14,
   "metadata": {},
   "outputs": [],
   "source": [
    "diff_text = 'diff --git a/src/main/java/org/apache/commons/lang3/math/NumberUtils.java b/src/main/java/org/apache/commons/lang3/math/NumberUtils.java\\nindex 1e6ccdc..c584021 100644\\n--- a/src/main/java/org/apache/commons/lang3/math/NumberUtils.java\\n@@ -590,22 +590,18 @@ public class NumberUtils {\\n         final boolean allZeros = isAllZeros(mant) && isAllZeros(exp);\\n         try {\\n-            if(numDecimals <= 7){// If number has 7 or fewer digits past the decimal point then make it a float\\n                 final Float f = createFloat(str);\\n                 if (!(f.isInfinite() || (f.floatValue() == 0.0F && !allZeros))) {\\n                     return f;\\n                 }\\n-            }\\n         } catch (final NumberFormatException nfe) { // NOPMD\\n         }\\n         try {\\n-            if(numDecimals <= 16){// If number has between 8 and 16 digits past the decimal point then make it a double\\n                 final Double d = createDouble(str);\\n                 if (!(d.isInfinite() || (d.doubleValue() == 0.0D && !allZeros))) {\\n                     return d;\\n                 }\\n-            }\\n         } catch (final NumberFormatException nfe) { // NOPMD\\n         }'"
   ]
  },
  {
   "cell_type": "code",
   "execution_count": 15,
   "metadata": {},
   "outputs": [],
   "source": [
    "diff_lines = diff_text.split('\\n')"
   ]
  },
  {
   "cell_type": "code",
   "execution_count": 17,
   "metadata": {},
   "outputs": [],
   "source": [
    "def find_all_diff_hunks(diff_lines: list, sign: str) -> list:\n",
    "    \"\"\"Find all the diff hunks in the diff text.\"\"\"\n",
    "\n",
    "    inverse_sign = '-' if sign == '+' else '+'\n",
    "    diff_lines = [line for line in diff_lines if not line.startswith(inverse_sign)]\n",
    "\n",
    "    # The key is the distance between hunks, which is the number of lines between two hunks\n",
    "    diff_hunks = {}\n",
    "    distance = 0\n",
    "    current_diff_hunk = []\n",
    "\n",
    "    for line in diff_lines:\n",
    "        if line.startswith(sign) and not line.startswith(sign * 2):\n",
    "            current_diff_hunk.append(line[1:])\n",
    "        else:\n",
    "            if len(current_diff_hunk) != 0:\n",
    "                diff_hunks[distance] = current_diff_hunk\n",
    "                current_diff_hunk = []\n",
    "                distance = 0\n",
    "            if len(diff_hunks) != 0:\n",
    "                distance += 1\n",
    "    return diff_hunks"
   ]
  },
  {
   "cell_type": "code",
   "execution_count": 18,
   "metadata": {},
   "outputs": [],
   "source": [
    "results = find_all_diff_hunks(diff_lines, '-')\n"
   ]
  },
  {
   "cell_type": "code",
   "execution_count": 20,
   "metadata": {},
   "outputs": [
    {
     "name": "stdout",
     "output_type": "stream",
     "text": [
      "0\n",
      "['            if(numDecimals <= 7){// If number has 7 or fewer digits past the decimal point then make it a float']\n",
      "-----------------\n",
      "4\n",
      "['            }']\n",
      "-----------------\n",
      "3\n",
      "['            if(numDecimals <= 16){// If number has between 8 and 16 digits past the decimal point then make it a double']\n",
      "-----------------\n"
     ]
    }
   ],
   "source": [
    "for key, value in results.items():\n",
    "    print(key)\n",
    "    print(value)\n",
    "    print('-----------------')"
   ]
  },
  {
   "cell_type": "code",
   "execution_count": 23,
   "metadata": {},
   "outputs": [
    {
     "data": {
      "text/plain": [
       "(1, [2])"
      ]
     },
     "execution_count": 23,
     "metadata": {},
     "output_type": "execute_result"
    }
   ],
   "source": [
    "tuple([1, [2]])"
   ]
  },
  {
   "cell_type": "code",
   "execution_count": null,
   "metadata": {},
   "outputs": [],
   "source": []
  },
  {
   "cell_type": "code",
   "execution_count": null,
   "metadata": {},
   "outputs": [],
   "source": []
  }
 ],
 "metadata": {
  "kernelspec": {
   "display_name": "apr",
   "language": "python",
   "name": "python3"
  },
  "language_info": {
   "codemirror_mode": {
    "name": "ipython",
    "version": 3
   },
   "file_extension": ".py",
   "mimetype": "text/x-python",
   "name": "python",
   "nbconvert_exporter": "python",
   "pygments_lexer": "ipython3",
   "version": "3.10.11"
  },
  "orig_nbformat": 4
 },
 "nbformat": 4,
 "nbformat_minor": 2
}
