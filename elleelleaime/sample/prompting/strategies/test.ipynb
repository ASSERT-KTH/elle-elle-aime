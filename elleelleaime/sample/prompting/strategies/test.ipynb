{
 "cells": [
  {
   "cell_type": "code",
   "execution_count": 10,
   "metadata": {},
   "outputs": [
    {
     "name": "stdout",
     "output_type": "stream",
     "text": [
      "  private String format(JSError error, boolean warning) {\n",
      "    SourceExcerptProvider source = getSource();\n",
      "    String sourceExcerpt = source == null ? null :\n",
      "        excerpt.get(\n",
      "            source, error.sourceName, error.lineNumber, excerptFormatter);\n",
      "\n",
      "    StringBuilder b = new StringBuilder();\n",
      "    if (error.sourceName != null) {\n",
      "      b.append(error.sourceName);\n",
      "      if (error.lineNumber > 0) {\n",
      "        b.append(':');\n",
      "        b.append(error.lineNumber);\n",
      "      }\n",
      "      b.append(\": \");\n",
      "    }\n",
      "\n",
      "    b.append(getLevelName(warning ? CheckLevel.WARNING : CheckLevel.ERROR));\n",
      "    b.append(\" - \");\n",
      "\n",
      "    b.append(error.description);\n",
      "    b.append('\\n');\n",
      "    if (sourceExcerpt != null) {\n",
      "      b.append(sourceExcerpt);\n",
      "      b.append('\\n');\n",
      "      int charno = error.getCharno();\n",
      "\n",
      "      if (excerpt.equals(LINE)\n",
      "          && 0 <= charno && charno < sourceExcerpt.length()) {\n",
      "        for (int i = 0; i < charno; i++) {\n",
      "          char c = sourceExcerpt.charAt(i);\n",
      "          if (Character.isWhitespace(c)) {\n",
      "            b.append(c);\n",
      "          } else {\n",
      "            b.append(' ');\n",
      "          }\n",
      "        }\n",
      "        b.append(\"^\\n\");\n",
      "      }\n",
      "    }\n",
      "    return b.toString();\n",
      "  }\n",
      "\n"
     ]
    }
   ],
   "source": [
    "print('  private String format(JSError error, boolean warning) {\\n    SourceExcerptProvider source = getSource();\\n    String sourceExcerpt = source == null ? null :\\n        excerpt.get(\\n            source, error.sourceName, error.lineNumber, excerptFormatter);\\n\\n    StringBuilder b = new StringBuilder();\\n    if (error.sourceName != null) {\\n      b.append(error.sourceName);\\n      if (error.lineNumber > 0) {\\n        b.append(\\':\\');\\n        b.append(error.lineNumber);\\n      }\\n      b.append(\": \");\\n    }\\n\\n    b.append(getLevelName(warning ? CheckLevel.WARNING : CheckLevel.ERROR));\\n    b.append(\" - \");\\n\\n    b.append(error.description);\\n    b.append(\\'\\\\n\\');\\n    if (sourceExcerpt != null) {\\n      b.append(sourceExcerpt);\\n      b.append(\\'\\\\n\\');\\n      int charno = error.getCharno();\\n\\n      if (excerpt.equals(LINE)\\n          && 0 <= charno && charno < sourceExcerpt.length()) {\\n        for (int i = 0; i < charno; i++) {\\n          char c = sourceExcerpt.charAt(i);\\n          if (Character.isWhitespace(c)) {\\n            b.append(c);\\n          } else {\\n            b.append(\\' \\');\\n          }\\n        }\\n        b.append(\"^\\\\n\");\\n      }\\n    }\\n    return b.toString();\\n  }\\n')"
   ]
  },
  {
   "cell_type": "code",
   "execution_count": 3,
   "metadata": {},
   "outputs": [],
   "source": [
    "from uuid import uuid4"
   ]
  },
  {
   "cell_type": "code",
   "execution_count": 7,
   "metadata": {},
   "outputs": [],
   "source": [
    "a = str(uuid4())"
   ]
  },
  {
   "cell_type": "code",
   "execution_count": 8,
   "metadata": {},
   "outputs": [
    {
     "data": {
      "text/plain": [
       "str"
      ]
     },
     "execution_count": 8,
     "metadata": {},
     "output_type": "execute_result"
    }
   ],
   "source": [
    "type(a)"
   ]
  },
  {
   "cell_type": "code",
   "execution_count": 9,
   "metadata": {},
   "outputs": [
    {
     "data": {
      "text/plain": [
       "True"
      ]
     },
     "execution_count": 9,
     "metadata": {},
     "output_type": "execute_result"
    }
   ],
   "source": [
    "a = 'aaa{}'\n",
    "'{}' in a"
   ]
  },
  {
   "cell_type": "code",
   "execution_count": 3,
   "metadata": {},
   "outputs": [],
   "source": [
    "a = {(1, 2):[1, 2, 3]}"
   ]
  },
  {
   "cell_type": "code",
   "execution_count": 4,
   "metadata": {},
   "outputs": [],
   "source": [
    "diff = \"diff --git a/src/main/java/org/jsoup/parser/HtmlTreeBuilder.java b/src/main/java/org/jsoup/parser/HtmlTreeBuilder.java\\nindex b8cc1f0..08444ef 100644\\n--- a/src/main/java/org/jsoup/parser/HtmlTreeBuilder.java\\n+++ b/src/main/java/org/jsoup/parser/HtmlTreeBuilder.java\\n@@ -465,7 +465,10 @@ public class HtmlTreeBuilder extends TreeBuilder {\\n \\n     private boolean inSpecificScope(String[] targetNames, String[] baseTypes, String[] extraTypes) {\\n         // https://html.spec.whatwg.org/multipage/parsing.html#has-an-element-in-the-specific-scope\\n-        final int bottom = stack.size() -1;\\n+        int bottom = stack.size() -1;\\n+        if (bottom > MaxScopeSearchDepth) {\\n+            bottom = MaxScopeSearchDepth;\\n+        }\\n         final int top = bottom > MaxScopeSearchDepth ? bottom - MaxScopeSearchDepth : 0;\\n         // don't walk too far up the tree\\n \\n\""
   ]
  },
  {
   "cell_type": "code",
   "execution_count": 5,
   "metadata": {},
   "outputs": [],
   "source": [
    "diff_lines = diff.split('\\n')"
   ]
  },
  {
   "cell_type": "code",
   "execution_count": 7,
   "metadata": {},
   "outputs": [],
   "source": [
    "import re\n",
    "\n",
    "clean_lines = [re.sub('//.*', '', line) for line in diff_lines]"
   ]
  },
  {
   "cell_type": "code",
   "execution_count": 8,
   "metadata": {},
   "outputs": [
    {
     "name": "stdout",
     "output_type": "stream",
     "text": [
      "diff --git a/src/main/java/org/jsoup/parser/HtmlTreeBuilder.java b/src/main/java/org/jsoup/parser/HtmlTreeBuilder.java\n",
      "index b8cc1f0..08444ef 100644\n",
      "--- a/src/main/java/org/jsoup/parser/HtmlTreeBuilder.java\n",
      "+++ b/src/main/java/org/jsoup/parser/HtmlTreeBuilder.java\n",
      "@@ -465,7 +465,10 @@ public class HtmlTreeBuilder extends TreeBuilder {\n",
      " \n",
      "     private boolean inSpecificScope(String[] targetNames, String[] baseTypes, String[] extraTypes) {\n",
      "         \n",
      "-        final int bottom = stack.size() -1;\n",
      "+        int bottom = stack.size() -1;\n",
      "+        if (bottom > MaxScopeSearchDepth) {\n",
      "+            bottom = MaxScopeSearchDepth;\n",
      "+        }\n",
      "         final int top = bottom > MaxScopeSearchDepth ? bottom - MaxScopeSearchDepth : 0;\n",
      "         \n",
      " \n",
      "\n"
     ]
    }
   ],
   "source": [
    "for each in clean_lines:\n",
    "    print(each)"
   ]
  },
  {
   "cell_type": "code",
   "execution_count": 9,
   "metadata": {},
   "outputs": [
    {
     "name": "stdout",
     "output_type": "stream",
     "text": [
      "diff --git a/src/main/java/org/jsoup/parser/HtmlTreeBuilder.java b/src/main/java/org/jsoup/parser/HtmlTreeBuilder.java\n",
      "index b8cc1f0..08444ef 100644\n",
      "--- a/src/main/java/org/jsoup/parser/HtmlTreeBuilder.java\n",
      "+++ b/src/main/java/org/jsoup/parser/HtmlTreeBuilder.java\n",
      "@@ -465,7 +465,10 @@ public class HtmlTreeBuilder extends TreeBuilder {\n",
      " \n",
      "     private boolean inSpecificScope(String[] targetNames, String[] baseTypes, String[] extraTypes) {\n",
      "         // https://html.spec.whatwg.org/multipage/parsing.html#has-an-element-in-the-specific-scope\n",
      "-        final int bottom = stack.size() -1;\n",
      "+        int bottom = stack.size() -1;\n",
      "+        if (bottom > MaxScopeSearchDepth) {\n",
      "+            bottom = MaxScopeSearchDepth;\n",
      "+        }\n",
      "         final int top = bottom > MaxScopeSearchDepth ? bottom - MaxScopeSearchDepth : 0;\n",
      "         // don't walk too far up the tree\n",
      " \n",
      "\n"
     ]
    }
   ],
   "source": [
    "for each in diff_lines:\n",
    "    print(each)"
   ]
  },
  {
   "cell_type": "code",
   "execution_count": 44,
   "metadata": {},
   "outputs": [
    {
     "name": "stdout",
     "output_type": "stream",
     "text": [
      "            if (n instanceof TextNode) {\n",
      "                return ((TextNode) n).getBinaryValue(b64variant);\n",
      "-----------------\n",
      "            return n.binaryValue();\n",
      "-----------------\n"
     ]
    }
   ],
   "source": [
    "a = {0: ['            if (n instanceof TextNode) {', '                return ((TextNode) n).getBinaryValue(b64variant);'], 1: ['            return n.binaryValue();']}\n",
    "for key, value in a.items():\n",
    "    for each in value:\n",
    "        print(each)\n",
    "    print('-----------------')"
   ]
  },
  {
   "cell_type": "code",
   "execution_count": 47,
   "metadata": {},
   "outputs": [
    {
     "name": "stdout",
     "output_type": "stream",
     "text": [
      "diff --git a/src/main/java/com/fasterxml/jackson/databind/node/TreeTraversingParser.java b/src/main/java/com/fasterxml/jackson/databind/node/TreeTraversingParser.java\n",
      "index 40bf3d343..9d2f74b35 100644\n",
      "--- a/src/main/java/com/fasterxml/jackson/databind/node/TreeTraversingParser.java\n",
      "+++ b/src/main/java/com/fasterxml/jackson/databind/node/TreeTraversingParser.java\n",
      "@@ -360,10 +360,16 @@ public class TreeTraversingParser extends ParserMinimalBase\n",
      "         if (n != null) {\n",
      "             // [databind#2096]: although `binaryValue()` works for real binary node\n",
      "             // and embedded \"POJO\" node, coercion from TextNode may require variant, so:\n",
      "-            if (n instanceof TextNode) {\n",
      "-                return ((TextNode) n).getBinaryValue(b64variant);\n",
      "+            byte[] data = n.binaryValue();\n",
      "+            if (data != null) {\n",
      "+                return data;\n",
      "+            }\n",
      "+            if (n.isPojo()) {\n",
      "+                Object ob = ((POJONode) n).getPojo();\n",
      "+                if (ob instanceof byte[]) {\n",
      "+                    return (byte[]) ob;\n",
      "+                }\n",
      "             }\n",
      "-            return n.binaryValue();\n",
      "         }\n",
      "         // otherwise return null to mark we have no binary content\n",
      "         return null;\n",
      "\n",
      "-----------------\n",
      "diff --git a/src/main/java/com/fasterxml/jackson/databind/node/TreeTraversingParser.java b/src/main/java/com/fasterxml/jackson/databind/node/TreeTraversingParser.java\n",
      "index 40bf3d343..9d2f74b35 100644\n",
      "--- a/src/main/java/com/fasterxml/jackson/databind/node/TreeTraversingParser.java\n",
      "@@ -360,10 +360,16 @@ public class TreeTraversingParser extends ParserMinimalBase\n",
      "         if (n != null) {\n",
      "-            if (n instanceof TextNode) {\n",
      "-                return ((TextNode) n).getBinaryValue(b64variant);\n",
      "             }\n",
      "-            return n.binaryValue();\n",
      "         }\n",
      "         return null;\n"
     ]
    }
   ],
   "source": [
    "diff_text = 'diff --git a/src/main/java/com/fasterxml/jackson/databind/node/TreeTraversingParser.java b/src/main/java/com/fasterxml/jackson/databind/node/TreeTraversingParser.java\\nindex 40bf3d343..9d2f74b35 100644\\n--- a/src/main/java/com/fasterxml/jackson/databind/node/TreeTraversingParser.java\\n+++ b/src/main/java/com/fasterxml/jackson/databind/node/TreeTraversingParser.java\\n@@ -360,10 +360,16 @@ public class TreeTraversingParser extends ParserMinimalBase\\n         if (n != null) {\\n             // [databind#2096]: although `binaryValue()` works for real binary node\\n             // and embedded \"POJO\" node, coercion from TextNode may require variant, so:\\n-            if (n instanceof TextNode) {\\n-                return ((TextNode) n).getBinaryValue(b64variant);\\n+            byte[] data = n.binaryValue();\\n+            if (data != null) {\\n+                return data;\\n+            }\\n+            if (n.isPojo()) {\\n+                Object ob = ((POJONode) n).getPojo();\\n+                if (ob instanceof byte[]) {\\n+                    return (byte[]) ob;\\n+                }\\n             }\\n-            return n.binaryValue();\\n         }\\n         // otherwise return null to mark we have no binary content\\n         return null;\\n'\n",
    "lines = diff_text.split('\\n')\n",
    "inverse_sign = '+'\n",
    "lines = [line for line in lines if not line.startswith(inverse_sign)]\n",
    "# Remove comment lines\n",
    "lines = [line for line in lines if re.sub('//.*', '', line).strip() != '']\n",
    "print(diff_text)\n",
    "print('-----------------')\n",
    "print('\\n'.join(lines))"
   ]
  },
  {
   "cell_type": "code",
   "execution_count": 48,
   "metadata": {},
   "outputs": [
    {
     "name": "stdout",
     "output_type": "stream",
     "text": [
      "    public byte[] getBinaryValue(Base64Variant b64variant)\n",
      "        throws IOException, JsonParseException\n",
      "    {\n",
      "        JsonNode n = currentNode();\n",
      "        if (n != null) {\n",
      "            if (n instanceof TextNode) {\n",
      "                return ((TextNode) n).getBinaryValue(b64variant);\n",
      "            }\n",
      "            return n.binaryValue();\n",
      "        }\n",
      "        return null;\n",
      "    }\n",
      "\n"
     ]
    }
   ],
   "source": [
    "print('    public byte[] getBinaryValue(Base64Variant b64variant)\\n        throws IOException, JsonParseException\\n    {\\n        JsonNode n = currentNode();\\n        if (n != null) {\\n            if (n instanceof TextNode) {\\n                return ((TextNode) n).getBinaryValue(b64variant);\\n            }\\n            return n.binaryValue();\\n        }\\n        return null;\\n    }\\n')"
   ]
  },
  {
   "cell_type": "code",
   "execution_count": 42,
   "metadata": {},
   "outputs": [],
   "source": [
    "lines = [line for line in diff_text.split('\\n') if re.sub('//.*', '', line).strip() != '']"
   ]
  },
  {
   "cell_type": "code",
   "execution_count": 43,
   "metadata": {},
   "outputs": [
    {
     "name": "stdout",
     "output_type": "stream",
     "text": [
      "diff --git a/src/main/java/com/fasterxml/jackson/databind/jsontype/impl/ClassNameIdResolver.java b/src/main/java/com/fasterxml/jackson/databind/jsontype/impl/ClassNameIdResolver.java\n",
      "index d1418eb0a..142fc3629 100644\n",
      "--- a/src/main/java/com/fasterxml/jackson/databind/jsontype/impl/ClassNameIdResolver.java\n",
      "+++ b/src/main/java/com/fasterxml/jackson/databind/jsontype/impl/ClassNameIdResolver.java\n",
      "@@ -55,11 +55,7 @@ public class ClassNameIdResolver\n",
      "             JavaType t = tf.constructFromCanonical(id);\n",
      "-            if (!t.isTypeOrSubTypeOf(_baseType.getRawClass())) {\n",
      "-                throw new IllegalArgumentException(String.format(\n",
      "-                        \"Class %s not subtype of %s\", t.getRawClass().getName(), _baseType));\n",
      "-            }\n",
      "             return t;\n",
      "         }\n",
      "         Class<?> cls;\n"
     ]
    }
   ],
   "source": [
    "print('\\n'.join(lines))"
   ]
  },
  {
   "cell_type": "code",
   "execution_count": 60,
   "metadata": {},
   "outputs": [],
   "source": [
    "a = {0: [1, 2]}\n",
    "hunk = a.values()"
   ]
  },
  {
   "cell_type": "code",
   "execution_count": 63,
   "metadata": {},
   "outputs": [
    {
     "data": {
      "text/plain": [
       "[[1, 2]]"
      ]
     },
     "execution_count": 63,
     "metadata": {},
     "output_type": "execute_result"
    }
   ],
   "source": [
    "list(hunk)[0]"
   ]
  },
  {
   "cell_type": "code",
   "execution_count": 64,
   "metadata": {},
   "outputs": [
    {
     "name": "stdout",
     "output_type": "stream",
     "text": [
      "[]\n"
     ]
    }
   ],
   "source": [
    "print(list())"
   ]
  },
  {
   "cell_type": "code",
   "execution_count": null,
   "metadata": {},
   "outputs": [],
   "source": []
  }
 ],
 "metadata": {
  "kernelspec": {
   "display_name": "apr",
   "language": "python",
   "name": "python3"
  },
  "language_info": {
   "codemirror_mode": {
    "name": "ipython",
    "version": 3
   },
   "file_extension": ".py",
   "mimetype": "text/x-python",
   "name": "python",
   "nbconvert_exporter": "python",
   "pygments_lexer": "ipython3",
   "version": "3.10.11"
  },
  "orig_nbformat": 4
 },
 "nbformat": 4,
 "nbformat_minor": 2
}
